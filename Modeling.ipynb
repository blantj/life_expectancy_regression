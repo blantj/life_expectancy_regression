{
 "cells": [
  {
   "cell_type": "markdown",
   "metadata": {},
   "source": [
    "# Import Libraries"
   ]
  },
  {
   "cell_type": "code",
   "execution_count": 22,
   "metadata": {},
   "outputs": [],
   "source": [
    "import pyspark\n",
    "import pandas as pd\n",
    "import matplotlib.pyplot as plt\n",
    "import seaborn as sns\n",
    "from pyspark.ml.feature import VectorAssembler\n",
    "from pyspark.ml.stat import Correlation"
   ]
  },
  {
   "cell_type": "markdown",
   "metadata": {},
   "source": [
    "# Obtain Data"
   ]
  },
  {
   "cell_type": "markdown",
   "metadata": {},
   "source": [
    "Create sparksession"
   ]
  },
  {
   "cell_type": "code",
   "execution_count": 4,
   "metadata": {},
   "outputs": [],
   "source": [
    "spark = pyspark.sql.SparkSession.builder.master('local').getOrCreate()"
   ]
  },
  {
   "cell_type": "markdown",
   "metadata": {},
   "source": [
    "Read df into pyspark ml"
   ]
  },
  {
   "cell_type": "code",
   "execution_count": 10,
   "metadata": {},
   "outputs": [
    {
     "name": "stdout",
     "output_type": "stream",
     "text": [
      "['Access to electricity (% of population)', 'Current health expenditure per capita, PPP (current international $)', 'GDP per capita (constant LCU)', 'Government expenditure on education, total (% of GDP)', 'Intentional homicides (per 100,000 people)', 'Life expectancy at birth, total (years)', 'Out-of-pocket expenditure (% of current health expenditure)', 'Suicide mortality rate (per 100,000 population)', 'Unemployment, total (% of total labor force) (modeled ILO estimate)', 'Urban population (% of total population)', 'Country']\n",
      "-RECORD 0-----------------------------------------------------------------------------------\n",
      " Access to electricity (% of population)                              | 98.7132034301758    \n",
      " Current health expenditure per capita, PPP (current international $) | 186.4072876         \n",
      " GDP per capita (constant LCU)                                        | 34696.1279892983    \n",
      " Government expenditure on education, total (% of GDP)                | 4.0588698387146005  \n",
      " Intentional homicides (per 100,000 people)                           | 6.6555611518        \n",
      " Life expectancy at birth, total (years)                              | 64.486              \n",
      " Out-of-pocket expenditure (% of current health expenditure)          | 78.38278198         \n",
      " Suicide mortality rate (per 100,000 population)                      | 4.7                 \n",
      " Unemployment, total (% of total labor force) (modeled ILO estimate)  | 11.163999557495101  \n",
      " Urban population (% of total population)                             | 25.754              \n",
      " Country                                                              | Afghanistan         \n",
      "-RECORD 1-----------------------------------------------------------------------------------\n",
      " Access to electricity (% of population)                              | 100.0               \n",
      " Current health expenditure per capita, PPP (current international $) | 697.30487061        \n",
      " GDP per capita (constant LCU)                                        | 541581.745631168    \n",
      " Government expenditure on education, total (% of GDP)                | 3.61172008514404    \n",
      " Intentional homicides (per 100,000 people)                           | 2.2894924438        \n",
      " Life expectancy at birth, total (years)                              | 78.458              \n",
      " Out-of-pocket expenditure (% of current health expenditure)          | 44.58411789         \n",
      " Suicide mortality rate (per 100,000 population)                      | 6.3                 \n",
      " Unemployment, total (% of total labor force) (modeled ILO estimate)  | 12.812999725341802  \n",
      " Urban population (% of total population)                             | 61.229              \n",
      " Country                                                              | Albania             \n",
      "-RECORD 2-----------------------------------------------------------------------------------\n",
      " Access to electricity (% of population)                              | 100.0               \n",
      " Current health expenditure per capita, PPP (current international $) | 962.71936035        \n",
      " GDP per capita (constant LCU)                                        | 444291.180605545    \n",
      " Government expenditure on education, total (% of GDP)                | 5.087593984603884   \n",
      " Intentional homicides (per 100,000 people)                           | 1.3642763974        \n",
      " Life expectancy at birth, total (years)                              | 76.693              \n",
      " Out-of-pocket expenditure (% of current health expenditure)          | 32.64655304         \n",
      " Suicide mortality rate (per 100,000 population)                      | 3.2                 \n",
      " Unemployment, total (% of total labor force) (modeled ILO estimate)  | 11.5249996185303    \n",
      " Urban population (% of total population)                             | 73.189              \n",
      " Country                                                              | Algeria             \n",
      "-RECORD 3-----------------------------------------------------------------------------------\n",
      " Access to electricity (% of population)                              | 43.2592582702637    \n",
      " Current health expenditure per capita, PPP (current international $) | 164.70602417        \n",
      " GDP per capita (constant LCU)                                        | 48339.2534146188    \n",
      " Government expenditure on education, total (% of GDP)                | 4.512600016593934   \n",
      " Intentional homicides (per 100,000 people)                           | 8.790139818044      \n",
      " Life expectancy at birth, total (years)                              | 60.782              \n",
      " Out-of-pocket expenditure (% of current health expenditure)          | 36.79880905         \n",
      " Suicide mortality rate (per 100,000 population)                      | 4.7                 \n",
      " Unemployment, total (% of total labor force) (modeled ILO estimate)  | 6.77400016784668    \n",
      " Urban population (% of total population)                             | 66.17699999999999   \n",
      " Country                                                              | Angola              \n",
      "-RECORD 4-----------------------------------------------------------------------------------\n",
      " Access to electricity (% of population)                              | 100.0               \n",
      " Current health expenditure per capita, PPP (current international $) | 1405.76794434       \n",
      " GDP per capita (constant LCU)                                        | 37895.034905990695  \n",
      " Government expenditure on education, total (% of GDP)                | 5.270403957366946   \n",
      " Intentional homicides (per 100,000 people)                           | 4.74780996146       \n",
      " Life expectancy at birth, total (years)                              | 76.885              \n",
      " Out-of-pocket expenditure (% of current health expenditure)          | 29.45855904         \n",
      " Suicide mortality rate (per 100,000 population)                      | 0.5                 \n",
      " Unemployment, total (% of total labor force) (modeled ILO estimate)  | 12.65160007476807   \n",
      " Urban population (% of total population)                             | 24.506              \n",
      " Country                                                              | Antigua and Barbuda \n",
      "only showing top 5 rows\n",
      "\n"
     ]
    }
   ],
   "source": [
    "df = spark.read.csv('excel/scrubbed_dataset.csv', header='true', inferSchema='true')\n",
    "print(df.columns)\n",
    "df.show(5, truncate=True, vertical=True)"
   ]
  },
  {
   "cell_type": "markdown",
   "metadata": {},
   "source": [
    "# Explore Data"
   ]
  },
  {
   "cell_type": "markdown",
   "metadata": {},
   "source": [
    "Calculate descriptive statistics of life expectancy dataset"
   ]
  },
  {
   "cell_type": "code",
   "execution_count": 11,
   "metadata": {},
   "outputs": [
    {
     "name": "stdout",
     "output_type": "stream",
     "text": [
      "-RECORD 0----------------------------------------------------------------------------------\n",
      " summary                                                              | count              \n",
      " Access to electricity (% of population)                              | 174                \n",
      " Current health expenditure per capita, PPP (current international $) | 174                \n",
      " GDP per capita (constant LCU)                                        | 174                \n",
      " Government expenditure on education, total (% of GDP)                | 174                \n",
      " Intentional homicides (per 100,000 people)                           | 174                \n",
      " Life expectancy at birth, total (years)                              | 174                \n",
      " Out-of-pocket expenditure (% of current health expenditure)          | 174                \n",
      " Suicide mortality rate (per 100,000 population)                      | 174                \n",
      " Unemployment, total (% of total labor force) (modeled ILO estimate)  | 174                \n",
      " Urban population (% of total population)                             | 174                \n",
      " Country                                                              | 174                \n",
      "-RECORD 1----------------------------------------------------------------------------------\n",
      " summary                                                              | mean               \n",
      " Access to electricity (% of population)                              | 84.8084230054293   \n",
      " Current health expenditure per capita, PPP (current international $) | 1564.476932096276  \n",
      " GDP per capita (constant LCU)                                        | 1305950.302643034  \n",
      " Government expenditure on education, total (% of GDP)                | 4.471674754016701  \n",
      " Intentional homicides (per 100,000 people)                           | 7.017158290119671  \n",
      " Life expectancy at birth, total (years)                              | 72.53911718530975  \n",
      " Out-of-pocket expenditure (% of current health expenditure)          | 32.741028338       \n",
      " Suicide mortality rate (per 100,000 population)                      | 9.092183908045978  \n",
      " Unemployment, total (% of total labor force) (modeled ILO estimate)  | 7.038457457070378  \n",
      " Urban population (% of total population)                             | 59.27859540229886  \n",
      " Country                                                              | null               \n",
      "-RECORD 2----------------------------------------------------------------------------------\n",
      " summary                                                              | stddev             \n",
      " Access to electricity (% of population)                              | 25.103981105582616 \n",
      " Current health expenditure per capita, PPP (current international $) | 2012.9541333816564 \n",
      " GDP per capita (constant LCU)                                        | 5085132.032963148  \n",
      " Government expenditure on education, total (% of GDP)                | 1.2816670301306128 \n",
      " Intentional homicides (per 100,000 people)                           | 9.180807651612108  \n",
      " Life expectancy at birth, total (years)                              | 7.696503995166171  \n",
      " Out-of-pocket expenditure (% of current health expenditure)          | 18.600455447468097 \n",
      " Suicide mortality rate (per 100,000 population)                      | 5.666416515561845  \n",
      " Unemployment, total (% of total labor force) (modeled ILO estimate)  | 4.972613061650493  \n",
      " Urban population (% of total population)                             | 23.255222316186085 \n",
      " Country                                                              | null               \n",
      "-RECORD 3----------------------------------------------------------------------------------\n",
      " summary                                                              | min                \n",
      " Access to electricity (% of population)                              | 11.024251937866199 \n",
      " Current health expenditure per capita, PPP (current international $) | 65.79267883        \n",
      " GDP per capita (constant LCU)                                        | 284.216751657865   \n",
      " Government expenditure on education, total (% of GDP)                | 1.32632005214691   \n",
      " Intentional homicides (per 100,000 people)                           | 0.15631776484      \n",
      " Life expectancy at birth, total (years)                              | 52.805             \n",
      " Out-of-pocket expenditure (% of current health expenditure)          | 0.09893881         \n",
      " Suicide mortality rate (per 100,000 population)                      | 0.5                \n",
      " Unemployment, total (% of total labor force) (modeled ILO estimate)  | 0.0820000022649765 \n",
      " Urban population (% of total population)                             | 13.25              \n",
      " Country                                                              | Afghanistan        \n",
      "-RECORD 4----------------------------------------------------------------------------------\n",
      " summary                                                              | max                \n",
      " Access to electricity (% of population)                              | 100.0              \n",
      " Current health expenditure per capita, PPP (current international $) | 12642.83105469     \n",
      " GDP per capita (constant LCU)                                        | 4.04590142051914E7 \n",
      " Government expenditure on education, total (% of GDP)                | 7.91198015213013   \n",
      " Intentional homicides (per 100,000 people)                           | 52.018926167       \n",
      " Life expectancy at birth, total (years)                              | 84.2109756097561   \n",
      " Out-of-pocket expenditure (% of current health expenditure)          | 84.27638245        \n",
      " Suicide mortality rate (per 100,000 population)                      | 31.9               \n",
      " Unemployment, total (% of total labor force) (modeled ILO estimate)  | 28.4769992828369   \n",
      " Urban population (% of total population)                             | 100.0              \n",
      " Country                                                              | Zimbabwe           \n",
      "\n"
     ]
    }
   ],
   "source": [
    "df.describe().show(vertical=True)"
   ]
  },
  {
   "cell_type": "markdown",
   "metadata": {},
   "source": [
    "Assemble features into a single column"
   ]
  },
  {
   "cell_type": "code",
   "execution_count": 28,
   "metadata": {},
   "outputs": [
    {
     "name": "stdout",
     "output_type": "stream",
     "text": [
      "-RECORD 0------------------------------------------------------------------------------------\n",
      " Access to electricity (% of population)                              | 98.7132034301758     \n",
      " Current health expenditure per capita, PPP (current international $) | 186.4072876          \n",
      " GDP per capita (constant LCU)                                        | 34696.1279892983     \n",
      " Government expenditure on education, total (% of GDP)                | 4.0588698387146005   \n",
      " Intentional homicides (per 100,000 people)                           | 6.6555611518         \n",
      " Life expectancy at birth, total (years)                              | 64.486               \n",
      " Out-of-pocket expenditure (% of current health expenditure)          | 78.38278198          \n",
      " Suicide mortality rate (per 100,000 population)                      | 4.7                  \n",
      " Unemployment, total (% of total labor force) (modeled ILO estimate)  | 11.163999557495101   \n",
      " Urban population (% of total population)                             | 25.754               \n",
      " Country                                                              | Afghanistan          \n",
      " Features                                                             | [98.7132034301758... \n",
      "-RECORD 1------------------------------------------------------------------------------------\n",
      " Access to electricity (% of population)                              | 100.0                \n",
      " Current health expenditure per capita, PPP (current international $) | 697.30487061         \n",
      " GDP per capita (constant LCU)                                        | 541581.745631168     \n",
      " Government expenditure on education, total (% of GDP)                | 3.61172008514404     \n",
      " Intentional homicides (per 100,000 people)                           | 2.2894924438         \n",
      " Life expectancy at birth, total (years)                              | 78.458               \n",
      " Out-of-pocket expenditure (% of current health expenditure)          | 44.58411789          \n",
      " Suicide mortality rate (per 100,000 population)                      | 6.3                  \n",
      " Unemployment, total (% of total labor force) (modeled ILO estimate)  | 12.812999725341802   \n",
      " Urban population (% of total population)                             | 61.229               \n",
      " Country                                                              | Albania              \n",
      " Features                                                             | [100.0,697.304870... \n",
      "-RECORD 2------------------------------------------------------------------------------------\n",
      " Access to electricity (% of population)                              | 100.0                \n",
      " Current health expenditure per capita, PPP (current international $) | 962.71936035         \n",
      " GDP per capita (constant LCU)                                        | 444291.180605545     \n",
      " Government expenditure on education, total (% of GDP)                | 5.087593984603884    \n",
      " Intentional homicides (per 100,000 people)                           | 1.3642763974         \n",
      " Life expectancy at birth, total (years)                              | 76.693               \n",
      " Out-of-pocket expenditure (% of current health expenditure)          | 32.64655304          \n",
      " Suicide mortality rate (per 100,000 population)                      | 3.2                  \n",
      " Unemployment, total (% of total labor force) (modeled ILO estimate)  | 11.5249996185303     \n",
      " Urban population (% of total population)                             | 73.189               \n",
      " Country                                                              | Algeria              \n",
      " Features                                                             | [100.0,962.719360... \n",
      "-RECORD 3------------------------------------------------------------------------------------\n",
      " Access to electricity (% of population)                              | 43.2592582702637     \n",
      " Current health expenditure per capita, PPP (current international $) | 164.70602417         \n",
      " GDP per capita (constant LCU)                                        | 48339.2534146188     \n",
      " Government expenditure on education, total (% of GDP)                | 4.512600016593934    \n",
      " Intentional homicides (per 100,000 people)                           | 8.790139818044       \n",
      " Life expectancy at birth, total (years)                              | 60.782               \n",
      " Out-of-pocket expenditure (% of current health expenditure)          | 36.79880905          \n",
      " Suicide mortality rate (per 100,000 population)                      | 4.7                  \n",
      " Unemployment, total (% of total labor force) (modeled ILO estimate)  | 6.77400016784668     \n",
      " Urban population (% of total population)                             | 66.17699999999999    \n",
      " Country                                                              | Angola               \n",
      " Features                                                             | [43.2592582702637... \n",
      "-RECORD 4------------------------------------------------------------------------------------\n",
      " Access to electricity (% of population)                              | 100.0                \n",
      " Current health expenditure per capita, PPP (current international $) | 1405.76794434        \n",
      " GDP per capita (constant LCU)                                        | 37895.034905990695   \n",
      " Government expenditure on education, total (% of GDP)                | 5.270403957366946    \n",
      " Intentional homicides (per 100,000 people)                           | 4.74780996146        \n",
      " Life expectancy at birth, total (years)                              | 76.885               \n",
      " Out-of-pocket expenditure (% of current health expenditure)          | 29.45855904          \n",
      " Suicide mortality rate (per 100,000 population)                      | 0.5                  \n",
      " Unemployment, total (% of total labor force) (modeled ILO estimate)  | 12.65160007476807    \n",
      " Urban population (% of total population)                             | 24.506               \n",
      " Country                                                              | Antigua and Barbuda  \n",
      " Features                                                             | [100.0,1405.76794... \n",
      "only showing top 5 rows\n",
      "\n"
     ]
    }
   ],
   "source": [
    "features = df.columns\n",
    "features.remove('Life expectancy at birth, total (years)')\n",
    "features.remove('Country')\n",
    "assembler = VectorAssembler(inputCols=features, outputCol='Features')\n",
    "assembled_df = assembler.transform(df)\n",
    "assembled_df.show(5, truncate=True, vertical=True)"
   ]
  },
  {
   "cell_type": "markdown",
   "metadata": {},
   "source": [
    "Calculate correlations between features"
   ]
  },
  {
   "cell_type": "code",
   "execution_count": 58,
   "metadata": {},
   "outputs": [
    {
     "name": "stdout",
     "output_type": "stream",
     "text": [
      "Highest Correlation:  0.5258535033950555\n"
     ]
    },
    {
     "data": {
      "text/plain": [
       "array([ 1.        ,  0.30516997,  0.08915253,  0.18320509, -0.0640105 ,\n",
       "       -0.11394804,  0.18294923,  0.07655328,  0.5258535 ,  0.30516997,\n",
       "        1.        , -0.07220666,  0.22387894, -0.23180453, -0.35267823,\n",
       "        0.30089646, -0.15024685,  0.50797783,  0.08915253, -0.07220666,\n",
       "        1.        , -0.06007638, -0.01941469,  0.06826174, -0.04928279,\n",
       "       -0.07814293,  0.00901303,  0.18320509,  0.22387894, -0.06007638,\n",
       "        1.        ,  0.11107473, -0.33194147,  0.15054383,  0.13695932,\n",
       "        0.19695017, -0.0640105 , -0.23180453, -0.01941469,  0.11107473,\n",
       "        1.        ,  0.02263126, -0.0920256 ,  0.17096494, -0.08077984,\n",
       "       -0.11394804, -0.35267823,  0.06826174, -0.33194147,  0.02263126,\n",
       "        1.        , -0.18222998, -0.00574389, -0.2442824 ,  0.18294923,\n",
       "        0.30089646, -0.04928279,  0.15054383, -0.0920256 , -0.18222998,\n",
       "        1.        , -0.03023459,  0.17683999,  0.07655328, -0.15024685,\n",
       "       -0.07814293,  0.13695932,  0.17096494, -0.00574389, -0.03023459,\n",
       "        1.        ,  0.08958253,  0.5258535 ,  0.50797783,  0.00901303,\n",
       "        0.19695017, -0.08077984, -0.2442824 ,  0.17683999,  0.08958253,\n",
       "        1.        ])"
      ]
     },
     "execution_count": 58,
     "metadata": {},
     "output_type": "execute_result"
    }
   ],
   "source": [
    "correlations = Correlation.corr(assembled_df, 'Features').collect()[0][\"pearson({})\".format('Features')].values\n",
    "high_corr = max([x for x in list(correlations) if x != 1])\n",
    "print('Highest Correlation: ', high_corr)\n",
    "correlations"
   ]
  },
  {
   "cell_type": "code",
   "execution_count": null,
   "metadata": {},
   "outputs": [],
   "source": []
  },
  {
   "cell_type": "code",
   "execution_count": null,
   "metadata": {},
   "outputs": [],
   "source": []
  },
  {
   "cell_type": "code",
   "execution_count": null,
   "metadata": {},
   "outputs": [],
   "source": []
  }
 ],
 "metadata": {
  "kernelspec": {
   "display_name": "Python 3",
   "language": "python",
   "name": "python3"
  },
  "language_info": {
   "codemirror_mode": {
    "name": "ipython",
    "version": 3
   },
   "file_extension": ".py",
   "mimetype": "text/x-python",
   "name": "python",
   "nbconvert_exporter": "python",
   "pygments_lexer": "ipython3",
   "version": "3.7.6"
  }
 },
 "nbformat": 4,
 "nbformat_minor": 4
}
