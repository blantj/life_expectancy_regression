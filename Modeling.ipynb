{
 "cells": [
  {
   "cell_type": "markdown",
   "metadata": {},
   "source": [
    "# Import Libraries"
   ]
  },
  {
   "cell_type": "code",
   "execution_count": 143,
   "metadata": {},
   "outputs": [],
   "source": [
    "import pyspark\n",
    "import pandas as pd\n",
    "import matplotlib.pyplot as plt\n",
    "import seaborn as sns\n",
    "from pyspark.ml.feature import VectorAssembler\n",
    "from pyspark.ml.stat import Correlation\n",
    "from pyspark.ml.regression import LinearRegression, RandomForestRegressor\n",
    "from pyspark.ml.evaluation import RegressionEvaluator\n",
    "from pyspark.ml.tuning import ParamGridBuilder, TrainValidationSplit"
   ]
  },
  {
   "cell_type": "markdown",
   "metadata": {},
   "source": [
    "# Obtain Data"
   ]
  },
  {
   "cell_type": "markdown",
   "metadata": {},
   "source": [
    "Create sparksession"
   ]
  },
  {
   "cell_type": "code",
   "execution_count": 131,
   "metadata": {},
   "outputs": [],
   "source": [
    "spark = pyspark.sql.SparkSession.builder.master('local').getOrCreate()"
   ]
  },
  {
   "cell_type": "markdown",
   "metadata": {},
   "source": [
    "Read df into pyspark ml"
   ]
  },
  {
   "cell_type": "code",
   "execution_count": 132,
   "metadata": {},
   "outputs": [
    {
     "name": "stdout",
     "output_type": "stream",
     "text": [
      "['Access to electricity (% of population)', 'Current health expenditure per capita, PPP (current international $)', 'GDP per capita (constant LCU)', 'Government expenditure on education, total (% of GDP)', 'Intentional homicides (per 100,000 people)', 'Life expectancy at birth, total (years)', 'Out-of-pocket expenditure (% of current health expenditure)', 'Suicide mortality rate (per 100,000 population)', 'Unemployment, total (% of total labor force) (modeled ILO estimate)', 'Urban population (% of total population)', 'Country']\n",
      "-RECORD 0-----------------------------------------------------------------------------------\n",
      " Access to electricity (% of population)                              | 98.7132034301758    \n",
      " Current health expenditure per capita, PPP (current international $) | 186.4072876         \n",
      " GDP per capita (constant LCU)                                        | 34696.1279892983    \n",
      " Government expenditure on education, total (% of GDP)                | 4.0588698387146005  \n",
      " Intentional homicides (per 100,000 people)                           | 6.6555611518        \n",
      " Life expectancy at birth, total (years)                              | 64.486              \n",
      " Out-of-pocket expenditure (% of current health expenditure)          | 78.38278198         \n",
      " Suicide mortality rate (per 100,000 population)                      | 4.7                 \n",
      " Unemployment, total (% of total labor force) (modeled ILO estimate)  | 11.163999557495101  \n",
      " Urban population (% of total population)                             | 25.754              \n",
      " Country                                                              | Afghanistan         \n",
      "-RECORD 1-----------------------------------------------------------------------------------\n",
      " Access to electricity (% of population)                              | 100.0               \n",
      " Current health expenditure per capita, PPP (current international $) | 697.30487061        \n",
      " GDP per capita (constant LCU)                                        | 541581.745631168    \n",
      " Government expenditure on education, total (% of GDP)                | 3.61172008514404    \n",
      " Intentional homicides (per 100,000 people)                           | 2.2894924438        \n",
      " Life expectancy at birth, total (years)                              | 78.458              \n",
      " Out-of-pocket expenditure (% of current health expenditure)          | 44.58411789         \n",
      " Suicide mortality rate (per 100,000 population)                      | 6.3                 \n",
      " Unemployment, total (% of total labor force) (modeled ILO estimate)  | 12.812999725341802  \n",
      " Urban population (% of total population)                             | 61.229              \n",
      " Country                                                              | Albania             \n",
      "-RECORD 2-----------------------------------------------------------------------------------\n",
      " Access to electricity (% of population)                              | 100.0               \n",
      " Current health expenditure per capita, PPP (current international $) | 962.71936035        \n",
      " GDP per capita (constant LCU)                                        | 444291.180605545    \n",
      " Government expenditure on education, total (% of GDP)                | 5.087593984603884   \n",
      " Intentional homicides (per 100,000 people)                           | 1.3642763974        \n",
      " Life expectancy at birth, total (years)                              | 76.693              \n",
      " Out-of-pocket expenditure (% of current health expenditure)          | 32.64655304         \n",
      " Suicide mortality rate (per 100,000 population)                      | 3.2                 \n",
      " Unemployment, total (% of total labor force) (modeled ILO estimate)  | 11.5249996185303    \n",
      " Urban population (% of total population)                             | 73.189              \n",
      " Country                                                              | Algeria             \n",
      "-RECORD 3-----------------------------------------------------------------------------------\n",
      " Access to electricity (% of population)                              | 43.2592582702637    \n",
      " Current health expenditure per capita, PPP (current international $) | 164.70602417        \n",
      " GDP per capita (constant LCU)                                        | 48339.2534146188    \n",
      " Government expenditure on education, total (% of GDP)                | 4.512600016593934   \n",
      " Intentional homicides (per 100,000 people)                           | 8.790139818044      \n",
      " Life expectancy at birth, total (years)                              | 60.782              \n",
      " Out-of-pocket expenditure (% of current health expenditure)          | 36.79880905         \n",
      " Suicide mortality rate (per 100,000 population)                      | 4.7                 \n",
      " Unemployment, total (% of total labor force) (modeled ILO estimate)  | 6.77400016784668    \n",
      " Urban population (% of total population)                             | 66.17699999999999   \n",
      " Country                                                              | Angola              \n",
      "-RECORD 4-----------------------------------------------------------------------------------\n",
      " Access to electricity (% of population)                              | 100.0               \n",
      " Current health expenditure per capita, PPP (current international $) | 1405.76794434       \n",
      " GDP per capita (constant LCU)                                        | 37895.034905990695  \n",
      " Government expenditure on education, total (% of GDP)                | 5.270403957366946   \n",
      " Intentional homicides (per 100,000 people)                           | 4.74780996146       \n",
      " Life expectancy at birth, total (years)                              | 76.885              \n",
      " Out-of-pocket expenditure (% of current health expenditure)          | 29.45855904         \n",
      " Suicide mortality rate (per 100,000 population)                      | 0.5                 \n",
      " Unemployment, total (% of total labor force) (modeled ILO estimate)  | 12.65160007476807   \n",
      " Urban population (% of total population)                             | 24.506              \n",
      " Country                                                              | Antigua and Barbuda \n",
      "only showing top 5 rows\n",
      "\n"
     ]
    }
   ],
   "source": [
    "df = spark.read.csv('excel/scrubbed_dataset.csv', header='true', inferSchema='true')\n",
    "print(df.columns)\n",
    "df.show(5, truncate=True, vertical=True)"
   ]
  },
  {
   "cell_type": "markdown",
   "metadata": {},
   "source": [
    "# Explore Data"
   ]
  },
  {
   "cell_type": "markdown",
   "metadata": {},
   "source": [
    "Calculate descriptive statistics of life expectancy dataset"
   ]
  },
  {
   "cell_type": "code",
   "execution_count": 133,
   "metadata": {},
   "outputs": [
    {
     "name": "stdout",
     "output_type": "stream",
     "text": [
      "-RECORD 0----------------------------------------------------------------------------------\n",
      " summary                                                              | count              \n",
      " Access to electricity (% of population)                              | 174                \n",
      " Current health expenditure per capita, PPP (current international $) | 174                \n",
      " GDP per capita (constant LCU)                                        | 174                \n",
      " Government expenditure on education, total (% of GDP)                | 174                \n",
      " Intentional homicides (per 100,000 people)                           | 174                \n",
      " Life expectancy at birth, total (years)                              | 174                \n",
      " Out-of-pocket expenditure (% of current health expenditure)          | 174                \n",
      " Suicide mortality rate (per 100,000 population)                      | 174                \n",
      " Unemployment, total (% of total labor force) (modeled ILO estimate)  | 174                \n",
      " Urban population (% of total population)                             | 174                \n",
      " Country                                                              | 174                \n",
      "-RECORD 1----------------------------------------------------------------------------------\n",
      " summary                                                              | mean               \n",
      " Access to electricity (% of population)                              | 84.8084230054293   \n",
      " Current health expenditure per capita, PPP (current international $) | 1564.476932096276  \n",
      " GDP per capita (constant LCU)                                        | 1305950.302643034  \n",
      " Government expenditure on education, total (% of GDP)                | 4.471674754016701  \n",
      " Intentional homicides (per 100,000 people)                           | 7.017158290119671  \n",
      " Life expectancy at birth, total (years)                              | 72.53911718530975  \n",
      " Out-of-pocket expenditure (% of current health expenditure)          | 32.741028338       \n",
      " Suicide mortality rate (per 100,000 population)                      | 9.092183908045978  \n",
      " Unemployment, total (% of total labor force) (modeled ILO estimate)  | 7.038457457070378  \n",
      " Urban population (% of total population)                             | 59.27859540229886  \n",
      " Country                                                              | null               \n",
      "-RECORD 2----------------------------------------------------------------------------------\n",
      " summary                                                              | stddev             \n",
      " Access to electricity (% of population)                              | 25.103981105582616 \n",
      " Current health expenditure per capita, PPP (current international $) | 2012.9541333816564 \n",
      " GDP per capita (constant LCU)                                        | 5085132.032963148  \n",
      " Government expenditure on education, total (% of GDP)                | 1.2816670301306128 \n",
      " Intentional homicides (per 100,000 people)                           | 9.180807651612108  \n",
      " Life expectancy at birth, total (years)                              | 7.696503995166171  \n",
      " Out-of-pocket expenditure (% of current health expenditure)          | 18.600455447468097 \n",
      " Suicide mortality rate (per 100,000 population)                      | 5.666416515561845  \n",
      " Unemployment, total (% of total labor force) (modeled ILO estimate)  | 4.972613061650493  \n",
      " Urban population (% of total population)                             | 23.255222316186085 \n",
      " Country                                                              | null               \n",
      "-RECORD 3----------------------------------------------------------------------------------\n",
      " summary                                                              | min                \n",
      " Access to electricity (% of population)                              | 11.024251937866199 \n",
      " Current health expenditure per capita, PPP (current international $) | 65.79267883        \n",
      " GDP per capita (constant LCU)                                        | 284.216751657865   \n",
      " Government expenditure on education, total (% of GDP)                | 1.32632005214691   \n",
      " Intentional homicides (per 100,000 people)                           | 0.15631776484      \n",
      " Life expectancy at birth, total (years)                              | 52.805             \n",
      " Out-of-pocket expenditure (% of current health expenditure)          | 0.09893881         \n",
      " Suicide mortality rate (per 100,000 population)                      | 0.5                \n",
      " Unemployment, total (% of total labor force) (modeled ILO estimate)  | 0.0820000022649765 \n",
      " Urban population (% of total population)                             | 13.25              \n",
      " Country                                                              | Afghanistan        \n",
      "-RECORD 4----------------------------------------------------------------------------------\n",
      " summary                                                              | max                \n",
      " Access to electricity (% of population)                              | 100.0              \n",
      " Current health expenditure per capita, PPP (current international $) | 12642.83105469     \n",
      " GDP per capita (constant LCU)                                        | 4.04590142051914E7 \n",
      " Government expenditure on education, total (% of GDP)                | 7.91198015213013   \n",
      " Intentional homicides (per 100,000 people)                           | 52.018926167       \n",
      " Life expectancy at birth, total (years)                              | 84.2109756097561   \n",
      " Out-of-pocket expenditure (% of current health expenditure)          | 84.27638245        \n",
      " Suicide mortality rate (per 100,000 population)                      | 31.9               \n",
      " Unemployment, total (% of total labor force) (modeled ILO estimate)  | 28.4769992828369   \n",
      " Urban population (% of total population)                             | 100.0              \n",
      " Country                                                              | Zimbabwe           \n",
      "\n"
     ]
    }
   ],
   "source": [
    "df.describe().show(vertical=True)"
   ]
  },
  {
   "cell_type": "markdown",
   "metadata": {},
   "source": [
    "Assemble features into a single column"
   ]
  },
  {
   "cell_type": "code",
   "execution_count": 134,
   "metadata": {
    "scrolled": true
   },
   "outputs": [
    {
     "name": "stdout",
     "output_type": "stream",
     "text": [
      "-RECORD 0------------------------------------------------------------------------------------\n",
      " Access to electricity (% of population)                              | 98.7132034301758     \n",
      " Current health expenditure per capita, PPP (current international $) | 186.4072876          \n",
      " GDP per capita (constant LCU)                                        | 34696.1279892983     \n",
      " Government expenditure on education, total (% of GDP)                | 4.0588698387146005   \n",
      " Intentional homicides (per 100,000 people)                           | 6.6555611518         \n",
      " Life expectancy at birth, total (years)                              | 64.486               \n",
      " Out-of-pocket expenditure (% of current health expenditure)          | 78.38278198          \n",
      " Suicide mortality rate (per 100,000 population)                      | 4.7                  \n",
      " Unemployment, total (% of total labor force) (modeled ILO estimate)  | 11.163999557495101   \n",
      " Urban population (% of total population)                             | 25.754               \n",
      " Country                                                              | Afghanistan          \n",
      " Features                                                             | [98.7132034301758... \n",
      "-RECORD 1------------------------------------------------------------------------------------\n",
      " Access to electricity (% of population)                              | 100.0                \n",
      " Current health expenditure per capita, PPP (current international $) | 697.30487061         \n",
      " GDP per capita (constant LCU)                                        | 541581.745631168     \n",
      " Government expenditure on education, total (% of GDP)                | 3.61172008514404     \n",
      " Intentional homicides (per 100,000 people)                           | 2.2894924438         \n",
      " Life expectancy at birth, total (years)                              | 78.458               \n",
      " Out-of-pocket expenditure (% of current health expenditure)          | 44.58411789          \n",
      " Suicide mortality rate (per 100,000 population)                      | 6.3                  \n",
      " Unemployment, total (% of total labor force) (modeled ILO estimate)  | 12.812999725341802   \n",
      " Urban population (% of total population)                             | 61.229               \n",
      " Country                                                              | Albania              \n",
      " Features                                                             | [100.0,697.304870... \n",
      "-RECORD 2------------------------------------------------------------------------------------\n",
      " Access to electricity (% of population)                              | 100.0                \n",
      " Current health expenditure per capita, PPP (current international $) | 962.71936035         \n",
      " GDP per capita (constant LCU)                                        | 444291.180605545     \n",
      " Government expenditure on education, total (% of GDP)                | 5.087593984603884    \n",
      " Intentional homicides (per 100,000 people)                           | 1.3642763974         \n",
      " Life expectancy at birth, total (years)                              | 76.693               \n",
      " Out-of-pocket expenditure (% of current health expenditure)          | 32.64655304          \n",
      " Suicide mortality rate (per 100,000 population)                      | 3.2                  \n",
      " Unemployment, total (% of total labor force) (modeled ILO estimate)  | 11.5249996185303     \n",
      " Urban population (% of total population)                             | 73.189               \n",
      " Country                                                              | Algeria              \n",
      " Features                                                             | [100.0,962.719360... \n",
      "-RECORD 3------------------------------------------------------------------------------------\n",
      " Access to electricity (% of population)                              | 43.2592582702637     \n",
      " Current health expenditure per capita, PPP (current international $) | 164.70602417         \n",
      " GDP per capita (constant LCU)                                        | 48339.2534146188     \n",
      " Government expenditure on education, total (% of GDP)                | 4.512600016593934    \n",
      " Intentional homicides (per 100,000 people)                           | 8.790139818044       \n",
      " Life expectancy at birth, total (years)                              | 60.782               \n",
      " Out-of-pocket expenditure (% of current health expenditure)          | 36.79880905          \n",
      " Suicide mortality rate (per 100,000 population)                      | 4.7                  \n",
      " Unemployment, total (% of total labor force) (modeled ILO estimate)  | 6.77400016784668     \n",
      " Urban population (% of total population)                             | 66.17699999999999    \n",
      " Country                                                              | Angola               \n",
      " Features                                                             | [43.2592582702637... \n",
      "-RECORD 4------------------------------------------------------------------------------------\n",
      " Access to electricity (% of population)                              | 100.0                \n",
      " Current health expenditure per capita, PPP (current international $) | 1405.76794434        \n",
      " GDP per capita (constant LCU)                                        | 37895.034905990695   \n",
      " Government expenditure on education, total (% of GDP)                | 5.270403957366946    \n",
      " Intentional homicides (per 100,000 people)                           | 4.74780996146        \n",
      " Life expectancy at birth, total (years)                              | 76.885               \n",
      " Out-of-pocket expenditure (% of current health expenditure)          | 29.45855904          \n",
      " Suicide mortality rate (per 100,000 population)                      | 0.5                  \n",
      " Unemployment, total (% of total labor force) (modeled ILO estimate)  | 12.65160007476807    \n",
      " Urban population (% of total population)                             | 24.506               \n",
      " Country                                                              | Antigua and Barbuda  \n",
      " Features                                                             | [100.0,1405.76794... \n",
      "only showing top 5 rows\n",
      "\n"
     ]
    }
   ],
   "source": [
    "features = df.columns\n",
    "features.remove('Life expectancy at birth, total (years)')\n",
    "features.remove('Country')\n",
    "assembler = VectorAssembler(inputCols=features, outputCol='Features')\n",
    "assembled_df = assembler.transform(df)\n",
    "assembled_df.show(5, truncate=True, vertical=True)"
   ]
  },
  {
   "cell_type": "markdown",
   "metadata": {},
   "source": [
    "Calculate correlations between features"
   ]
  },
  {
   "cell_type": "code",
   "execution_count": 135,
   "metadata": {},
   "outputs": [
    {
     "name": "stdout",
     "output_type": "stream",
     "text": [
      "Highest Correlation:  0.5258535033950555\n"
     ]
    },
    {
     "data": {
      "text/plain": [
       "array([ 1.        ,  0.30516997,  0.08915253,  0.18320509, -0.0640105 ,\n",
       "       -0.11394804,  0.18294923,  0.07655328,  0.5258535 ,  0.30516997,\n",
       "        1.        , -0.07220666,  0.22387894, -0.23180453, -0.35267823,\n",
       "        0.30089646, -0.15024685,  0.50797783,  0.08915253, -0.07220666,\n",
       "        1.        , -0.06007638, -0.01941469,  0.06826174, -0.04928279,\n",
       "       -0.07814293,  0.00901303,  0.18320509,  0.22387894, -0.06007638,\n",
       "        1.        ,  0.11107473, -0.33194147,  0.15054383,  0.13695932,\n",
       "        0.19695017, -0.0640105 , -0.23180453, -0.01941469,  0.11107473,\n",
       "        1.        ,  0.02263126, -0.0920256 ,  0.17096494, -0.08077984,\n",
       "       -0.11394804, -0.35267823,  0.06826174, -0.33194147,  0.02263126,\n",
       "        1.        , -0.18222998, -0.00574389, -0.2442824 ,  0.18294923,\n",
       "        0.30089646, -0.04928279,  0.15054383, -0.0920256 , -0.18222998,\n",
       "        1.        , -0.03023459,  0.17683999,  0.07655328, -0.15024685,\n",
       "       -0.07814293,  0.13695932,  0.17096494, -0.00574389, -0.03023459,\n",
       "        1.        ,  0.08958253,  0.5258535 ,  0.50797783,  0.00901303,\n",
       "        0.19695017, -0.08077984, -0.2442824 ,  0.17683999,  0.08958253,\n",
       "        1.        ])"
      ]
     },
     "execution_count": 135,
     "metadata": {},
     "output_type": "execute_result"
    }
   ],
   "source": [
    "correlations = Correlation.corr(assembled_df, 'Features').collect()[0][\"pearson({})\".format('Features')].values\n",
    "high_corr = max([x for x in list(correlations) if x != 1])\n",
    "print('Highest Correlation: ', high_corr)\n",
    "correlations"
   ]
  },
  {
   "cell_type": "markdown",
   "metadata": {},
   "source": [
    "# Model Data"
   ]
  },
  {
   "cell_type": "markdown",
   "metadata": {},
   "source": [
    "Create df with columns needed for regression model only"
   ]
  },
  {
   "cell_type": "code",
   "execution_count": 136,
   "metadata": {},
   "outputs": [
    {
     "name": "stdout",
     "output_type": "stream",
     "text": [
      "-RECORD 0----------------------------------------------------------------------------------------------------------------------------------------\n",
      " features | [98.7132034301758,186.4072876,34696.1279892983,4.0588698387146005,6.6555611518,78.38278198,4.7,11.163999557495101,25.754]            \n",
      " label    | 64.486                                                                                                                               \n",
      "-RECORD 1----------------------------------------------------------------------------------------------------------------------------------------\n",
      " features | [100.0,697.30487061,541581.745631168,3.61172008514404,2.2894924438,44.58411789,6.3,12.812999725341802,61.229]                        \n",
      " label    | 78.458                                                                                                                               \n",
      "-RECORD 2----------------------------------------------------------------------------------------------------------------------------------------\n",
      " features | [100.0,962.71936035,444291.180605545,5.087593984603884,1.3642763974,32.64655304,3.2,11.5249996185303,73.189]                         \n",
      " label    | 76.693                                                                                                                               \n",
      "-RECORD 3----------------------------------------------------------------------------------------------------------------------------------------\n",
      " features | [43.2592582702637,164.70602417,48339.2534146188,4.512600016593934,8.790139818044,36.79880905,4.7,6.77400016784668,66.17699999999999] \n",
      " label    | 60.782                                                                                                                               \n",
      "-RECORD 4----------------------------------------------------------------------------------------------------------------------------------------\n",
      " features | [100.0,1405.76794434,37895.034905990695,5.270403957366946,4.74780996146,29.45855904,0.5,12.65160007476807,24.506]                    \n",
      " label    | 76.885                                                                                                                               \n",
      "only showing top 5 rows\n",
      "\n"
     ]
    }
   ],
   "source": [
    "regression_df = assembled_df.select('Features', 'Life expectancy at birth, total (years)')\n",
    "regression_df = regression_df.withColumnRenamed('Features', 'features')\n",
    "regression_df = regression_df.withColumnRenamed('Life expectancy at birth, total (years)', 'label')\n",
    "regression_df.show(5, truncate=False, vertical=True)"
   ]
  },
  {
   "cell_type": "markdown",
   "metadata": {},
   "source": [
    "Train test split data"
   ]
  },
  {
   "cell_type": "code",
   "execution_count": 137,
   "metadata": {
    "scrolled": true
   },
   "outputs": [
    {
     "name": "stdout",
     "output_type": "stream",
     "text": [
      "(125, 2)\n",
      "(49, 2)\n",
      "-RECORD 0-------------------------------------------------------------------------------------------------------------------------------------\n",
      " features | [11.7593555450439,79.01350403,338971.14757147396,2.45481991767883,18.14757598704,61.90134811,8.8,1.942999958992,23.279]           \n",
      " label    | 53.977                                                                                                                            \n",
      "-RECORD 1-------------------------------------------------------------------------------------------------------------------------------------\n",
      " features | [14.4,111.71577454,437009.138356661,5.38379001617432,1.2504405198000001,35.83074951,7.7,6.41400003433228,29.98]                   \n",
      " label    | 61.174                                                                                                                            \n",
      "-RECORD 2-------------------------------------------------------------------------------------------------------------------------------------\n",
      " features | [17.6,77.98433685,309593.24928471696,3.54720997810364,11.4725077571,48.78827667,4.6,0.48500001430511497,16.517]                   \n",
      " label    | 62.023999999999994                                                                                                                \n",
      "-RECORD 3-------------------------------------------------------------------------------------------------------------------------------------\n",
      " features | [28.201856613159197,113.77922821,1491.8908759499402,1.54390001296997,6.27635640734,21.99826813,3.7,12.2569999694824,19.899]       \n",
      " label    | 57.604                                                                                                                            \n",
      "-RECORD 4-------------------------------------------------------------------------------------------------------------------------------------\n",
      " features | [28.6620216369629,123.18437958,272886.14529897604,4.845433855056761,1.1487047532999999,74.47859955,4.0,2.4869999885559104,43.777] \n",
      " label    | 58.003                                                                                                                            \n",
      "only showing top 5 rows\n",
      "\n"
     ]
    }
   ],
   "source": [
    "train, test = regression_df.randomSplit([0.8, 0.2], seed=97148)\n",
    "print((train.count(), len(train.columns)))\n",
    "print((test.count(), len(test.columns)))\n",
    "train.show(5, truncate=False, vertical=True)"
   ]
  },
  {
   "cell_type": "markdown",
   "metadata": {},
   "source": [
    "Build linear regression model"
   ]
  },
  {
   "cell_type": "code",
   "execution_count": 138,
   "metadata": {},
   "outputs": [
    {
     "name": "stdout",
     "output_type": "stream",
     "text": [
      "+--------------------+------------------+------------------+\n",
      "|            features|             label|        prediction|\n",
      "+--------------------+------------------+------------------+\n",
      "|[11.0242519378661...|            61.247| 56.56954844784067|\n",
      "|[18.02,119.512825...|            63.798| 58.54127752346385|\n",
      "|[25.9078121185303...|            66.681|60.148265508165395|\n",
      "|[25.9182662963867...|             63.73| 72.24751127604908|\n",
      "|[26.1,257.3265380...|            54.309| 59.97796985238802|\n",
      "|[31.1,117.7957382...|60.163000000000004| 60.99931129600803|\n",
      "|[32.4203987121581...|            52.805|59.943280621947615|\n",
      "|[41.529239654541,...|             61.47|62.914721203369645|\n",
      "|[43.2592582702637...|            60.782| 63.39966901577246|\n",
      "|[44.9799575805664...|             66.24| 62.53422216848385|\n",
      "|[49.6155433654784...|            65.941|63.679545524682446|\n",
      "|[62.6600723266602...| 58.92100000000001| 66.17426883956355|\n",
      "|[85.5918350219727...|             69.26| 71.47952360244952|\n",
      "|[91.88720703125,3...| 75.08800000000001| 70.05997071951413|\n",
      "|[95.5853652954102...| 71.23899999999999| 74.04114905505959|\n",
      "|[97.4,1179.640869...|             71.57| 74.92379399981525|\n",
      "|[97.4660034179687...|  74.4163414634146| 73.80968519152582|\n",
      "|[99.5400161743164...| 74.49600000000001| 72.04472769131529|\n",
      "|[99.5834045410155...|            76.812| 72.77679841152064|\n",
      "|[99.9,737.7508544...|            74.405| 75.35227464649626|\n",
      "+--------------------+------------------+------------------+\n",
      "only showing top 20 rows\n",
      "\n"
     ]
    }
   ],
   "source": [
    "lr = LinearRegression(maxIter=10)\n",
    "paramGrid = ParamGridBuilder().addGrid(lr.regParam, [.5, 0.1, 0.01, 0.0]).addGrid(lr.elasticNetParam, [0.0, 0.5, 1.0]).build()\n",
    "tvs = TrainValidationSplit(estimator=lr,\n",
    "                           estimatorParamMaps=paramGrid,\n",
    "                           evaluator=RegressionEvaluator(),\n",
    "                           trainRatio=0.8)\n",
    "model = tvs.fit(train)\n",
    "predictions = model.transform(test).select(\"features\", \"label\", \"prediction\")\n",
    "predictions.show()"
   ]
  },
  {
   "cell_type": "markdown",
   "metadata": {},
   "source": [
    "Evaluate linear regresion model performance"
   ]
  },
  {
   "cell_type": "code",
   "execution_count": 139,
   "metadata": {},
   "outputs": [
    {
     "name": "stdout",
     "output_type": "stream",
     "text": [
      "rmse:  3.8937656483610272\n",
      "mae:  3.1618810851372987\n",
      "r2:  0.7399775322095343\n"
     ]
    }
   ],
   "source": [
    "evaluator = RegressionEvaluator(predictionCol='prediction', labelCol='label')\n",
    "print('rmse: ', evaluator.evaluate(predictions,{evaluator.metricName: 'rmse'}))\n",
    "print('mae: ', evaluator.evaluate(predictions,{evaluator.metricName: 'mae'}))\n",
    "print('r2: ', evaluator.evaluate(predictions,{evaluator.metricName: 'r2'}))"
   ]
  },
  {
   "cell_type": "markdown",
   "metadata": {},
   "source": [
    "View regression model coefficients"
   ]
  },
  {
   "cell_type": "code",
   "execution_count": 140,
   "metadata": {},
   "outputs": [
    {
     "data": {
      "text/plain": [
       "DenseVector([0.1827, 0.001, 0.0, 0.0, -0.0611, -0.0272, 0.0, -0.038, 0.0288])"
      ]
     },
     "execution_count": 140,
     "metadata": {},
     "output_type": "execute_result"
    }
   ],
   "source": [
    "model.bestModel.coefficients"
   ]
  },
  {
   "cell_type": "markdown",
   "metadata": {},
   "source": [
    "Build random forest regression model"
   ]
  },
  {
   "cell_type": "code",
   "execution_count": 147,
   "metadata": {},
   "outputs": [
    {
     "name": "stdout",
     "output_type": "stream",
     "text": [
      "+--------------------+------------------+------------------+\n",
      "|            features|             label|        prediction|\n",
      "+--------------------+------------------+------------------+\n",
      "|[11.0242519378661...|            61.247|  61.7123134848485|\n",
      "|[18.02,119.512825...|            63.798| 63.62545499999997|\n",
      "|[25.9078121185303...|            66.681| 61.99865681818184|\n",
      "|[25.9182662963867...|             63.73| 69.31822178861789|\n",
      "|[26.1,257.3265380...|            54.309|61.504581818181805|\n",
      "|[31.1,117.7957382...|60.163000000000004|63.431161818181835|\n",
      "|[32.4203987121581...|            52.805| 60.34407181818184|\n",
      "|[41.529239654541,...|             61.47| 62.76333862950059|\n",
      "|[43.2592582702637...|            60.782| 63.98898033333336|\n",
      "|[44.9799575805664...|             66.24|62.474203897546914|\n",
      "|[49.6155433654784...|            65.941| 61.52056174603175|\n",
      "|[62.6600723266602...| 58.92100000000001| 63.72685926829265|\n",
      "|[85.5918350219727...|             69.26|  68.8248061382114|\n",
      "|[91.88720703125,3...| 75.08800000000001| 70.59662493224934|\n",
      "|[95.5853652954102...| 71.23899999999999| 71.73466556233063|\n",
      "|[97.4,1179.640869...|             71.57| 74.04240016736453|\n",
      "|[97.4660034179687...|  74.4163414634146| 74.09176297328692|\n",
      "|[99.5400161743164...| 74.49600000000001| 72.38934816492456|\n",
      "|[99.5834045410155...|            76.812|  70.6845898509485|\n",
      "|[99.9,737.7508544...|            74.405|   73.766689612079|\n",
      "+--------------------+------------------+------------------+\n",
      "only showing top 20 rows\n",
      "\n"
     ]
    }
   ],
   "source": [
    "rf = RandomForestRegressor()\n",
    "rfParamGrid = ParamGridBuilder().addGrid(rf.maxDepth, range(0,11)).addGrid(rf.numTrees, [100,200]).build()\n",
    "rfTvs = TrainValidationSplit(estimator=rf,\n",
    "                           estimatorParamMaps=rfParamGrid,\n",
    "                           evaluator=RegressionEvaluator(),\n",
    "                           trainRatio=0.8,\n",
    "                           parallelism = 4)\n",
    "rfModel = rfTvs.fit(train)\n",
    "rfPredictions = rfModel.transform(test).select(\"features\", \"label\", \"prediction\")\n",
    "rfPredictions.show()"
   ]
  },
  {
   "cell_type": "markdown",
   "metadata": {},
   "source": [
    "Evaluate random forest regression model"
   ]
  },
  {
   "cell_type": "code",
   "execution_count": 150,
   "metadata": {},
   "outputs": [
    {
     "name": "stdout",
     "output_type": "stream",
     "text": [
      "rmse:  3.456513103262068\n",
      "mae:  2.682687631601607\n",
      "r2:  0.7950973042267448\n"
     ]
    }
   ],
   "source": [
    "rfEvaluator = RegressionEvaluator(predictionCol='prediction', labelCol='label')\n",
    "print('rmse: ', rfEvaluator.evaluate(rfPredictions,{rfEvaluator.metricName: 'rmse'}))\n",
    "print('mae: ', rfEvaluator.evaluate(rfPredictions,{rfEvaluator.metricName: 'mae'}))\n",
    "print('r2: ', rfEvaluator.evaluate(rfPredictions,{rfEvaluator.metricName: 'r2'}))"
   ]
  },
  {
   "cell_type": "markdown",
   "metadata": {},
   "source": [
    "View random forest regression coefficients"
   ]
  },
  {
   "cell_type": "code",
   "execution_count": 152,
   "metadata": {},
   "outputs": [
    {
     "data": {
      "text/plain": [
       "SparseVector(9, {0: 0.3713, 1: 0.267, 2: 0.0226, 3: 0.0238, 4: 0.0689, 5: 0.0618, 6: 0.0398, 7: 0.0386, 8: 0.1062})"
      ]
     },
     "execution_count": 152,
     "metadata": {},
     "output_type": "execute_result"
    }
   ],
   "source": [
    "rfModel.bestModel.featureImportances"
   ]
  },
  {
   "cell_type": "code",
   "execution_count": null,
   "metadata": {},
   "outputs": [],
   "source": []
  }
 ],
 "metadata": {
  "kernelspec": {
   "display_name": "Python 3",
   "language": "python",
   "name": "python3"
  },
  "language_info": {
   "codemirror_mode": {
    "name": "ipython",
    "version": 3
   },
   "file_extension": ".py",
   "mimetype": "text/x-python",
   "name": "python",
   "nbconvert_exporter": "python",
   "pygments_lexer": "ipython3",
   "version": "3.7.6"
  }
 },
 "nbformat": 4,
 "nbformat_minor": 4
}
